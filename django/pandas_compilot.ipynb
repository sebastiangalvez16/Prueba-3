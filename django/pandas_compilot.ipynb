{
 "cells": [
  {
   "cell_type": "code",
   "execution_count": 7,
   "id": "fbdfebc7-1a43-4d75-81c2-96a53280067e",
   "metadata": {},
   "outputs": [],
   "source": [
    "import pandas as pd"
   ]
  },
  {
   "cell_type": "code",
   "execution_count": 9,
   "id": "ce9855e1-04ea-4f24-8bbc-a3c230a2fcce",
   "metadata": {},
   "outputs": [],
   "source": [
    "df = pd.read_csv('clientes_banco.csv')"
   ]
  },
  {
   "cell_type": "code",
   "execution_count": 13,
   "id": "38aa45a2-c7af-4712-b4fa-39b8d4c1677c",
   "metadata": {},
   "outputs": [],
   "source": [
    "df = df.drop_duplicates()"
   ]
  },
  {
   "cell_type": "code",
   "execution_count": 18,
   "id": "4ba725d2-79a7-4d3f-b602-6d50cb2fcfc7",
   "metadata": {},
   "outputs": [],
   "source": [
    "df = df.dropna(subset=['Saldo'])"
   ]
  },
  {
   "cell_type": "code",
   "execution_count": 23,
   "id": "cb26e73d-8716-4358-b077-92c5b78579a8",
   "metadata": {},
   "outputs": [],
   "source": [
    "df = df.dropna(subset=['Activo'])"
   ]
  },
  {
   "cell_type": "code",
   "execution_count": 26,
   "id": "5143a80e-f87c-4d2d-a708-2686abb8834f",
   "metadata": {},
   "outputs": [],
   "source": [
    "df['Edad'] = df['Edad'].fillna(df['Edad'].median())"
   ]
  },
  {
   "cell_type": "code",
   "execution_count": 27,
   "id": "47927561-5e8e-4ab4-b1f7-1b0f8290fc5c",
   "metadata": {},
   "outputs": [],
   "source": [
    "df['Genero'] = df['Genero'].fillna(df['Genero'].mode()[0])"
   ]
  },
  {
   "cell_type": "code",
   "execution_count": 28,
   "id": "88df13f1-de50-4bfd-bc36-fcbe7b327adc",
   "metadata": {},
   "outputs": [],
   "source": [
    "df['Nivel_de_Satisfaccion'] = df['Nivel_de_Satisfaccion'].fillna(df['Nivel_de_Satisfaccion'].median())"
   ]
  },
  {
   "cell_type": "code",
   "execution_count": 31,
   "id": "9a51713e-f0e6-464f-8299-413d88ccb377",
   "metadata": {},
   "outputs": [],
   "source": [
    "df['Edad'] = df['Edad'].astype(int)"
   ]
  },
  {
   "cell_type": "code",
   "execution_count": 32,
   "id": "54a09156-06df-476c-8340-26bb778e92a0",
   "metadata": {},
   "outputs": [],
   "source": [
    "df.to_csv('clientes_limpios.csv', index=False)"
   ]
  },
  {
   "cell_type": "code",
   "execution_count": null,
   "id": "16ecd7f7-7dca-460a-9609-3dc4744f7b9d",
   "metadata": {},
   "outputs": [],
   "source": []
  }
 ],
 "metadata": {
  "kernelspec": {
   "display_name": "Python 3 (ipykernel)",
   "language": "python",
   "name": "python3"
  },
  "language_info": {
   "codemirror_mode": {
    "name": "ipython",
    "version": 3
   },
   "file_extension": ".py",
   "mimetype": "text/x-python",
   "name": "python",
   "nbconvert_exporter": "python",
   "pygments_lexer": "ipython3",
   "version": "3.10.12"
  }
 },
 "nbformat": 4,
 "nbformat_minor": 5
}
